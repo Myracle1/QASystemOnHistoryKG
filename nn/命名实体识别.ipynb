{
 "cells": [
  {
   "cell_type": "code",
   "outputs": [
    {
     "name": "stdout",
     "output_type": "stream",
     "text": [
      "   问题编号                    问题    识别出的人名\n",
      "0     1       李鸿章的出生日期和官职是什么？       李鸿章\n",
      "1     2      请问杨坚的出生日期和官职是什么？        杨坚\n",
      "2     3         朱元璋的生日和职位是什么？       朱元璋\n",
      "3     4  你知道海兰珠和杨玉环的出生日期和官职吗？  杨玉环, 海兰珠\n",
      "4     5      孝庄皇后的生日和他的职位是什么？      孝庄皇后\n"
     ]
    }
   ],
   "source": [
    "import spacy\n",
    "import pandas as pd\n",
    "import re\n",
    "\n",
    "\n",
    "# # 示例问题列表\n",
    "# questions = [\n",
    "#     \"李鸿章的出生日期和官职是什么？\",\n",
    "#     \"请问杨坚的出生日期和官职是什么？\",\n",
    "#     \"朱元璋的生日和职位是什么？\",\n",
    "#     \"你知道海兰珠和杨玉环的出生日期和官职吗？\",\n",
    "#     \"孝庄皇后的生日和他的职位是什么？\",\n",
    "#     # 继续添加其他问题\n",
    "# ]\n",
    "\n",
    "\n",
    "\n",
    "# 定义一个函数来识别人名\n",
    "def extract_names(question):\n",
    "    # 加载预训练的SpaCy模型\n",
    "    nlp = spacy.load('zh_core_web_sm')\n",
    "    # 自定义词典\n",
    "    with open('celebrity.txt', 'r', encoding='utf-8') as file:\n",
    "        custom_names = file.read().splitlines()\n",
    "    # 使用SpaCy进行NER识别\n",
    "    doc = nlp(question)\n",
    "    names = [ent.text for ent in doc.ents if ent.label_ == 'PERSON']\n",
    "    \n",
    "    # 如果SpaCy无法识别所有人名，使用自定义词典\n",
    "    for name in custom_names:\n",
    "        if name in question and name not in names:\n",
    "            names.append(name)\n",
    "    \n",
    "    # 如果自定义词典也无法识别所有人名，使用正则表达式\n",
    "    regex = re.compile(\"|\".join(custom_names))\n",
    "    matches = regex.findall(question)\n",
    "    for match in matches:\n",
    "        if match not in names:\n",
    "            names.append(match)\n",
    "    \n",
    "    return ', '.join(names) if names else None\n",
    "\n",
    "# # 创建一个包含识别结果的DataFrame\n",
    "# data = {'问题编号': range(1, len(questions) + 1), '问题': questions, '识别出的人名': [extract_names(q) for q in questions]}\n",
    "# df = pd.DataFrame(data)\n",
    "\n",
    "# # 保存为CSV文件\n",
    "# df.to_csv('questions_with_names.csv', index=False, encoding='utf-8')\n",
    "\n",
    "# print(df)\n"
   ],
   "metadata": {
    "collapsed": true,
    "ExecuteTime": {
     "end_time": "2024-06-06T08:15:32.921477Z",
     "start_time": "2024-06-06T08:15:31.767306Z"
    }
   },
   "id": "initial_id",
   "execution_count": 16
  },
  {
   "cell_type": "code",
   "outputs": [],
   "source": [],
   "metadata": {
    "collapsed": false
   },
   "id": "12213e35b264eb1"
  }
 ],
 "metadata": {
  "kernelspec": {
   "display_name": "Python 3",
   "language": "python",
   "name": "python3"
  },
  "language_info": {
   "codemirror_mode": {
    "name": "ipython",
    "version": 2
   },
   "file_extension": ".py",
   "mimetype": "text/x-python",
   "name": "python",
   "nbconvert_exporter": "python",
   "pygments_lexer": "ipython2",
   "version": "2.7.6"
  }
 },
 "nbformat": 4,
 "nbformat_minor": 5
}
